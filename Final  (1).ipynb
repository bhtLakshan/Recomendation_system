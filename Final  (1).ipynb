{
 "cells": [
  {
   "cell_type": "code",
   "execution_count": 6,
   "id": "2f1ac5fc-1ebf-4291-bee9-fbf5e900ef7a",
   "metadata": {},
   "outputs": [
    {
     "name": "stdout",
     "output_type": "stream",
     "text": [
      " Dataset loaded successfully!\n"
     ]
    }
   ],
   "source": [
    "import pandas as pd\n",
    "import numpy as np\n",
    "import tensorflow as tf\n",
    "import seaborn as sns\n",
    "import matplotlib.pyplot as plt\n",
    "from sklearn.model_selection import train_test_split\n",
    "from sklearn.preprocessing import StandardScaler, OneHotEncoder, LabelEncoder\n",
    "from sklearn.compose import ColumnTransformer\n",
    "from sklearn.pipeline import Pipeline\n",
    "from sklearn.metrics import classification_report, confusion_matrix\n",
    "from tensorflow.keras.models import Sequential\n",
    "from tensorflow.keras.layers import Dense, Dropout\n",
    "\n",
    "# Load the dataset from the uploaded file\n",
    "try:\n",
    "    df = pd.read_csv('survey_datav3.csv')\n",
    "    print(\" Dataset loaded successfully!\")\n",
    "except FileNotFoundError:\n",
    "    print(\"Error: 'survey_datav3.csv' not found.\")"
   ]
  },
  {
   "cell_type": "code",
   "execution_count": 17,
   "id": "01110c65-fa8d-48ec-b7c3-2fc5a51a000e",
   "metadata": {},
   "outputs": [
    {
     "name": "stdout",
     "output_type": "stream",
     "text": [
      "✅ Column names cleaned successfully.\n",
      "\n",
      "✅ 'event_label' column created successfully.\n",
      "\n",
      "Distribution of event labels:\n",
      "event_label\n",
      "General Academic Workshop         138\n",
      "Peer Study Group Session           53\n",
      "Health and Wellness Seminar        38\n",
      "Business Pitch Competition         26\n",
      "Research Symposium                 24\n",
      "Leadership Workshop                16\n",
      "Coding Competition / Hackathon     14\n",
      "Data Science Bootcamp               9\n",
      "Creative Thinking Workshop          4\n",
      "Name: count, dtype: int64\n"
     ]
    }
   ],
   "source": [
    "# --- Data Cleaning ---\n",
    "# Clean column names more robustly to handle extra spaces\n",
    "# 1. Strip leading/trailing whitespace from column names\n",
    "df.columns = df.columns.str.strip()\n",
    "# 2. Replace multiple spaces within column names with a single space\n",
    "df.columns = df.columns.str.replace(r'\\s+', ' ', regex=True)\n",
    "\n",
    "print(\"✅ Column names cleaned successfully.\")\n",
    "\n",
    "# --- Feature Engineering ---\n",
    "# Define the function to assign event labels based on survey responses\n",
    "def assign_event_label(row):\n",
    "    # Rule 1: Coding Competition / Hackathon\n",
    "    if (row['Tech Meetups & Hackathons interest ratings'] >= 4 and\n",
    "        row['What type of academic content are you most interested in?'] == 'Practical & Technical Skills' and\n",
    "        row['Which faculty are you currently enrolled in?'] in ['Faculty of Technology', 'Faculty of Applied Sciences']):\n",
    "        return 'Coding Competition / Hackathon'\n",
    "    # Rule 2: Business Pitch Competition\n",
    "    if (row['Business Idea competition? interest ratings'] >= 4 and\n",
    "        row['What type of academic content are you most interested in?'] in ['Business & Management', 'Communication & Leadership']):\n",
    "        return 'Business Pitch Competition'\n",
    "    # Rule 3: Research Symposium\n",
    "    if (row['What type of academic content are you most interested in?'] == 'Research & Academic Writing' and\n",
    "        row['Academic Workshops interest ratings'] >= 4):\n",
    "        return 'Research Symposium'\n",
    "    # Rule 4: Leadership Workshop\n",
    "    if (row['What type of academic content are you most interested in?'] == 'Communication & Leadership' and\n",
    "        row['Academic Workshops interest ratings'] >= 4):\n",
    "        return 'Leadership Workshop'\n",
    "    # Rule 5: Health and Wellness Seminar\n",
    "    if row['A workshop on Mental Health & Stress Management? interest ratings'] >= 5:\n",
    "        return 'Health and Wellness Seminar'\n",
    "    # Rule 6: Creative Thinking Workshop\n",
    "    if (row['What type of academic content are you most interested in?'] == 'Creative & Critical Thinking' and\n",
    "        row['Academic Workshops interest ratings'] >= 4):\n",
    "        return 'Creative Thinking Workshop'\n",
    "    # Rule 7: Data Science Bootcamp\n",
    "    if (row['What type of academic content are you most interested in?'] == 'Data Analysis & Statistics' and\n",
    "        row['Tech Meetups & Hackathons interest ratings'] >= 4):\n",
    "        return 'Data Science Bootcamp'\n",
    "    # Rule 8: Peer Study Group Session (Fallback)\n",
    "    if row['Study Groups and Peer Discussions interest ratings'] >= 4:\n",
    "        return 'Peer Study Group Session'\n",
    "    # Default label\n",
    "    return 'General Academic Workshop'\n",
    "\n",
    "# Apply the function to create the new 'event_label' column\n",
    "df['event_label'] = df.apply(assign_event_label, axis=1)\n",
    "\n",
    "print(\"\\n✅ 'event_label' column created successfully.\")\n",
    "print(\"\\nDistribution of event labels:\")\n",
    "print(df['event_label'].value_counts())"
   ]
  },
  {
   "cell_type": "code",
   "execution_count": 18,
   "id": "c5451f48-ce18-4ba9-9e78-26f12db6665d",
   "metadata": {},
   "outputs": [
    {
     "name": "stdout",
     "output_type": "stream",
     "text": [
      "Training set shape: (257, 8)\n",
      "Testing set shape: (65, 8)\n",
      "\n",
      "Shape of one-hot encoded y_train: (257, 9)\n",
      "Example of a one-hot encoded label for the first training sample:\n",
      "[0. 0. 0. 0. 1. 0. 0. 0. 0.]\n"
     ]
    }
   ],
   "source": [
    "from tensorflow.keras.utils import to_categorical\n",
    "\n",
    "# 1. Separate the features (X) from the target (y)\n",
    "X = df.drop('event_label', axis=1)\n",
    "y = df['event_label']\n",
    "\n",
    "# 2. Encode the target labels into integers first\n",
    "label_encoder = LabelEncoder()\n",
    "y_integers = label_encoder.fit_transform(y)\n",
    "\n",
    "# 3. *** NEW: Convert integer labels to one-hot encoded vectors ***\n",
    "y_categorical = to_categorical(y_integers)\n",
    "\n",
    "# 4. Split the data into training (80%) and testing (20%) sets\n",
    "#    Note that we are now using y_categorical\n",
    "X_train, X_test, y_train, y_test = train_test_split(\n",
    "    X,\n",
    "    y_categorical, # Use the new one-hot encoded labels\n",
    "    test_size=0.2,\n",
    "    random_state=42,\n",
    "    stratify=y_categorical\n",
    ")\n",
    "\n",
    "print(f\"Training set shape: {X_train.shape}\")\n",
    "print(f\"Testing set shape: {X_test.shape}\")\n",
    "print(\"\\nShape of one-hot encoded y_train:\", y_train.shape)\n",
    "print(\"Example of a one-hot encoded label for the first training sample:\")\n",
    "print(y_train[0])"
   ]
  },
  {
   "cell_type": "code",
   "execution_count": 19,
   "id": "b3dbf767-ed94-4b5e-a725-e8b089735da2",
   "metadata": {},
   "outputs": [
    {
     "name": "stdout",
     "output_type": "stream",
     "text": [
      "✅ Preprocessing pipeline created.\n"
     ]
    }
   ],
   "source": [
    "# Identify categorical features to be one-hot encoded\n",
    "categorical_features = X.select_dtypes(include=['object', 'category']).columns\n",
    "\n",
    "# Create the preprocessing pipeline for the input features (X)\n",
    "preprocessor = ColumnTransformer(\n",
    "    transformers=[\n",
    "        ('cat', OneHotEncoder(handle_unknown='ignore'), categorical_features)\n",
    "    ],\n",
    "    remainder='passthrough'\n",
    ")\n",
    "\n",
    "# Create the full data processing pipeline\n",
    "processing_pipeline = Pipeline(steps=[\n",
    "    ('preprocessor', preprocessor),\n",
    "    ('scaler', StandardScaler(with_mean=False))\n",
    "])\n",
    "\n",
    "print(\"✅ Preprocessing pipeline created.\")"
   ]
  },
  {
   "cell_type": "code",
   "execution_count": 20,
   "id": "34f07d3d-f1c5-46ee-875c-2a41c92ac493",
   "metadata": {},
   "outputs": [
    {
     "name": "stdout",
     "output_type": "stream",
     "text": [
      "Shape of processed training data: (257, 19)\n",
      "Shape of processed testing data: (65, 19)\n"
     ]
    }
   ],
   "source": [
    "# Fit the pipeline on the training data and transform it\n",
    "X_train_processed = processing_pipeline.fit_transform(X_train)\n",
    "\n",
    "# Transform the testing data using the already-fitted pipeline\n",
    "X_test_processed = processing_pipeline.transform(X_test)\n",
    "\n",
    "print(f\"Shape of processed training data: {X_train_processed.shape}\")\n",
    "print(f\"Shape of processed testing data: {X_test_processed.shape}\")"
   ]
  },
  {
   "cell_type": "code",
   "execution_count": 27,
   "id": "bfd7cd1c-763e-4208-8fec-b21d500faece",
   "metadata": {},
   "outputs": [
    {
     "name": "stdout",
     "output_type": "stream",
     "text": [
      "Model: \"sequential_3\"\n",
      "_________________________________________________________________\n",
      " Layer (type)                Output Shape              Param #   \n",
      "=================================================================\n",
      " dense_11 (Dense)            (None, 256)               5120      \n",
      "                                                                 \n",
      " dropout_3 (Dropout)         (None, 256)               0         \n",
      "                                                                 \n",
      " dense_12 (Dense)            (None, 128)               32896     \n",
      "                                                                 \n",
      " dense_13 (Dense)            (None, 64)                8256      \n",
      "                                                                 \n",
      " dense_14 (Dense)            (None, 9)                 585       \n",
      "                                                                 \n",
      "=================================================================\n",
      "Total params: 46,857\n",
      "Trainable params: 46,857\n",
      "Non-trainable params: 0\n",
      "_________________________________________________________________\n"
     ]
    }
   ],
   "source": [
    "# Get the number of input features and output classes dynamically\n",
    "n_features = X_train_processed.shape[1]\n",
    "n_classes = len(label_encoder.classes_)\n",
    "\n",
    "# Define the model architecture\n",
    "model = Sequential([\n",
    "    Dense(256, activation='relu', input_shape=(n_features,)), # Increased from 128\n",
    "    Dropout(0.3),\n",
    "    Dense(128, activation='relu'), # Increased from 64\n",
    "    Dense(64, activation='relu'), # Increased from 32\n",
    "    Dense(n_classes, activation='softmax')\n",
    "])\n",
    "\n",
    "# Print a summary of the model\n",
    "model.summary()"
   ]
  },
  {
   "cell_type": "code",
   "execution_count": 28,
   "id": "f20c8a0b-dff0-486d-b292-d6acfa783259",
   "metadata": {},
   "outputs": [
    {
     "name": "stdout",
     "output_type": "stream",
     "text": [
      "✅ Model compiled successfully with 'categorical_crossentropy'.\n"
     ]
    }
   ],
   "source": [
    "model.compile(\n",
    "    optimizer='adam',\n",
    "    loss='categorical_crossentropy', # <-- UPDATED LOSS FUNCTION\n",
    "    metrics=['accuracy']\n",
    ")\n",
    "\n",
    "print(\"✅ Model compiled successfully with 'categorical_crossentropy'.\")"
   ]
  },
  {
   "cell_type": "code",
   "execution_count": 29,
   "id": "fbe6faf3-2e22-4d59-b106-fea280446938",
   "metadata": {},
   "outputs": [
    {
     "name": "stdout",
     "output_type": "stream",
     "text": [
      "🚀 Starting model training...\n",
      "Epoch 1/50\n",
      "8/8 [==============================] - 1s 42ms/step - loss: 1.9337 - accuracy: 0.3810 - val_loss: 1.6353 - val_accuracy: 0.4615\n",
      "Epoch 2/50\n",
      "8/8 [==============================] - 0s 12ms/step - loss: 1.7495 - accuracy: 0.4286 - val_loss: 1.4885 - val_accuracy: 0.4615\n",
      "Epoch 3/50\n",
      "8/8 [==============================] - 0s 14ms/step - loss: 1.6120 - accuracy: 0.4589 - val_loss: 1.4550 - val_accuracy: 0.5385\n",
      "Epoch 4/50\n",
      "8/8 [==============================] - 0s 21ms/step - loss: 1.4653 - accuracy: 0.4892 - val_loss: 1.3138 - val_accuracy: 0.5385\n",
      "Epoch 5/50\n",
      "8/8 [==============================] - 0s 16ms/step - loss: 1.3292 - accuracy: 0.5541 - val_loss: 1.2154 - val_accuracy: 0.6154\n",
      "Epoch 6/50\n",
      "8/8 [==============================] - 0s 13ms/step - loss: 1.1596 - accuracy: 0.6061 - val_loss: 1.0684 - val_accuracy: 0.6538\n",
      "Epoch 7/50\n",
      "8/8 [==============================] - 0s 14ms/step - loss: 1.0703 - accuracy: 0.6104 - val_loss: 1.1434 - val_accuracy: 0.5385\n",
      "Epoch 8/50\n",
      "8/8 [==============================] - 0s 13ms/step - loss: 1.0108 - accuracy: 0.6364 - val_loss: 0.9469 - val_accuracy: 0.6923\n",
      "Epoch 9/50\n",
      "8/8 [==============================] - 0s 12ms/step - loss: 0.9062 - accuracy: 0.6926 - val_loss: 0.9003 - val_accuracy: 0.6538\n",
      "Epoch 10/50\n",
      "8/8 [==============================] - 0s 12ms/step - loss: 0.8032 - accuracy: 0.7489 - val_loss: 0.8400 - val_accuracy: 0.6538\n",
      "Epoch 11/50\n",
      "8/8 [==============================] - 0s 11ms/step - loss: 0.7480 - accuracy: 0.7489 - val_loss: 0.8262 - val_accuracy: 0.6538\n",
      "Epoch 12/50\n",
      "8/8 [==============================] - 0s 13ms/step - loss: 0.6306 - accuracy: 0.7965 - val_loss: 0.8136 - val_accuracy: 0.7308\n",
      "Epoch 13/50\n",
      "8/8 [==============================] - 0s 13ms/step - loss: 0.5863 - accuracy: 0.7965 - val_loss: 0.7787 - val_accuracy: 0.6538\n",
      "Epoch 14/50\n",
      "8/8 [==============================] - 0s 13ms/step - loss: 0.6666 - accuracy: 0.7403 - val_loss: 0.6616 - val_accuracy: 0.7308\n",
      "Epoch 15/50\n",
      "8/8 [==============================] - 0s 14ms/step - loss: 0.5512 - accuracy: 0.7662 - val_loss: 0.7194 - val_accuracy: 0.6923\n",
      "Epoch 16/50\n",
      "8/8 [==============================] - 0s 12ms/step - loss: 0.4908 - accuracy: 0.8312 - val_loss: 0.5603 - val_accuracy: 0.8077\n",
      "Epoch 17/50\n",
      "8/8 [==============================] - 0s 12ms/step - loss: 0.4817 - accuracy: 0.8442 - val_loss: 0.6209 - val_accuracy: 0.7308\n",
      "Epoch 18/50\n",
      "8/8 [==============================] - 0s 12ms/step - loss: 0.4169 - accuracy: 0.8485 - val_loss: 0.6272 - val_accuracy: 0.6923\n",
      "Epoch 19/50\n",
      "8/8 [==============================] - 0s 12ms/step - loss: 0.4157 - accuracy: 0.8398 - val_loss: 0.5431 - val_accuracy: 0.8077\n",
      "Epoch 20/50\n",
      "8/8 [==============================] - 0s 8ms/step - loss: 0.3686 - accuracy: 0.8658 - val_loss: 0.8060 - val_accuracy: 0.6154\n",
      "Epoch 21/50\n",
      "8/8 [==============================] - 0s 8ms/step - loss: 0.3455 - accuracy: 0.8874 - val_loss: 0.5047 - val_accuracy: 0.8077\n",
      "Epoch 22/50\n",
      "8/8 [==============================] - 0s 12ms/step - loss: 0.3513 - accuracy: 0.8658 - val_loss: 0.5985 - val_accuracy: 0.7308\n",
      "Epoch 23/50\n",
      "8/8 [==============================] - 0s 12ms/step - loss: 0.3608 - accuracy: 0.9004 - val_loss: 0.5610 - val_accuracy: 0.7308\n",
      "Epoch 24/50\n",
      "8/8 [==============================] - 0s 10ms/step - loss: 0.3307 - accuracy: 0.8918 - val_loss: 0.4579 - val_accuracy: 0.9231\n",
      "Epoch 25/50\n",
      "8/8 [==============================] - 0s 8ms/step - loss: 0.3395 - accuracy: 0.8571 - val_loss: 0.5250 - val_accuracy: 0.7308\n",
      "Epoch 26/50\n",
      "8/8 [==============================] - 0s 8ms/step - loss: 0.2613 - accuracy: 0.9004 - val_loss: 0.4265 - val_accuracy: 0.8462\n",
      "Epoch 27/50\n",
      "8/8 [==============================] - 0s 12ms/step - loss: 0.2794 - accuracy: 0.9004 - val_loss: 0.5336 - val_accuracy: 0.7308\n",
      "Epoch 28/50\n",
      "8/8 [==============================] - 0s 9ms/step - loss: 0.2322 - accuracy: 0.9524 - val_loss: 0.5039 - val_accuracy: 0.8462\n",
      "Epoch 29/50\n",
      "8/8 [==============================] - 0s 17ms/step - loss: 0.2583 - accuracy: 0.9004 - val_loss: 0.6293 - val_accuracy: 0.7308\n",
      "Epoch 30/50\n",
      "8/8 [==============================] - 0s 12ms/step - loss: 0.2724 - accuracy: 0.9134 - val_loss: 0.5485 - val_accuracy: 0.6923\n",
      "Epoch 31/50\n",
      "8/8 [==============================] - 0s 10ms/step - loss: 0.2802 - accuracy: 0.9177 - val_loss: 0.5403 - val_accuracy: 0.6923\n",
      "Epoch 32/50\n",
      "8/8 [==============================] - 0s 8ms/step - loss: 0.2185 - accuracy: 0.9177 - val_loss: 0.4150 - val_accuracy: 0.8077\n",
      "Epoch 33/50\n",
      "8/8 [==============================] - 0s 9ms/step - loss: 0.1888 - accuracy: 0.9437 - val_loss: 0.5000 - val_accuracy: 0.7692\n",
      "Epoch 34/50\n",
      "8/8 [==============================] - 0s 9ms/step - loss: 0.2055 - accuracy: 0.9264 - val_loss: 0.5287 - val_accuracy: 0.7308\n",
      "Epoch 35/50\n",
      "8/8 [==============================] - 0s 9ms/step - loss: 0.1972 - accuracy: 0.9437 - val_loss: 0.4493 - val_accuracy: 0.8077\n",
      "Epoch 36/50\n",
      "8/8 [==============================] - 0s 9ms/step - loss: 0.1769 - accuracy: 0.9394 - val_loss: 0.5248 - val_accuracy: 0.8077\n",
      "Epoch 37/50\n",
      "8/8 [==============================] - 0s 13ms/step - loss: 0.1793 - accuracy: 0.9481 - val_loss: 0.4368 - val_accuracy: 0.8077\n",
      "Epoch 38/50\n",
      "8/8 [==============================] - 0s 10ms/step - loss: 0.1985 - accuracy: 0.9177 - val_loss: 0.4865 - val_accuracy: 0.8077\n",
      "Epoch 39/50\n",
      "8/8 [==============================] - 0s 9ms/step - loss: 0.1797 - accuracy: 0.9307 - val_loss: 0.4294 - val_accuracy: 0.8077\n",
      "Epoch 40/50\n",
      "8/8 [==============================] - 0s 11ms/step - loss: 0.1524 - accuracy: 0.9524 - val_loss: 0.3579 - val_accuracy: 0.8846\n",
      "Epoch 41/50\n",
      "8/8 [==============================] - 0s 15ms/step - loss: 0.1668 - accuracy: 0.9524 - val_loss: 0.4457 - val_accuracy: 0.6923\n",
      "Epoch 42/50\n",
      "8/8 [==============================] - 0s 11ms/step - loss: 0.1496 - accuracy: 0.9610 - val_loss: 0.4102 - val_accuracy: 0.7692\n",
      "Epoch 43/50\n",
      "8/8 [==============================] - 0s 39ms/step - loss: 0.1334 - accuracy: 0.9654 - val_loss: 0.4287 - val_accuracy: 0.8077\n",
      "Epoch 44/50\n",
      "8/8 [==============================] - 0s 19ms/step - loss: 0.1303 - accuracy: 0.9567 - val_loss: 0.3575 - val_accuracy: 0.8462\n",
      "Epoch 45/50\n",
      "8/8 [==============================] - 0s 19ms/step - loss: 0.1628 - accuracy: 0.9524 - val_loss: 0.4940 - val_accuracy: 0.7308\n",
      "Epoch 46/50\n",
      "8/8 [==============================] - 0s 14ms/step - loss: 0.1606 - accuracy: 0.9437 - val_loss: 0.4212 - val_accuracy: 0.8846\n",
      "Epoch 47/50\n",
      "8/8 [==============================] - 0s 32ms/step - loss: 0.1154 - accuracy: 0.9784 - val_loss: 0.4249 - val_accuracy: 0.8846\n",
      "Epoch 48/50\n",
      "8/8 [==============================] - 0s 18ms/step - loss: 0.0933 - accuracy: 0.9784 - val_loss: 0.4080 - val_accuracy: 0.8077\n",
      "Epoch 49/50\n",
      "8/8 [==============================] - 0s 22ms/step - loss: 0.1045 - accuracy: 0.9567 - val_loss: 0.3290 - val_accuracy: 0.9231\n",
      "Epoch 50/50\n",
      "8/8 [==============================] - 0s 15ms/step - loss: 0.0868 - accuracy: 0.9784 - val_loss: 0.3067 - val_accuracy: 0.8846\n",
      "✅ Model training complete.\n"
     ]
    }
   ],
   "source": [
    "print(\"🚀 Starting model training...\")\n",
    "\n",
    "history = model.fit(\n",
    "    X_train_processed,\n",
    "    y_train,\n",
    "    epochs=50,\n",
    "    batch_size=32,\n",
    "    validation_split=0.1,\n",
    "    verbose=1\n",
    ")\n",
    "\n",
    "print(\"✅ Model training complete.\")"
   ]
  },
  {
   "cell_type": "code",
   "execution_count": 30,
   "id": "c1b73c31-2605-4dce-96f6-d376b6073863",
   "metadata": {},
   "outputs": [
    {
     "name": "stdout",
     "output_type": "stream",
     "text": [
      "\n",
      "📈 Test Accuracy: 80.00%\n",
      "3/3 [==============================] - 0s 6ms/step\n",
      "\n",
      "📋 Classification Report:\n",
      "                                precision    recall  f1-score   support\n",
      "\n",
      "    Business Pitch Competition       0.60      0.60      0.60         5\n",
      "Coding Competition / Hackathon       0.60      1.00      0.75         3\n",
      "    Creative Thinking Workshop       1.00      1.00      1.00         1\n",
      "         Data Science Bootcamp       1.00      1.00      1.00         2\n",
      "     General Academic Workshop       0.85      0.82      0.84        28\n",
      "   Health and Wellness Seminar       0.67      0.86      0.75         7\n",
      "           Leadership Workshop       0.50      0.33      0.40         3\n",
      "      Peer Study Group Session       0.89      0.73      0.80        11\n",
      "            Research Symposium       1.00      1.00      1.00         5\n",
      "\n",
      "                      accuracy                           0.80        65\n",
      "                     macro avg       0.79      0.82      0.79        65\n",
      "                  weighted avg       0.81      0.80      0.80        65\n",
      "\n"
     ]
    }
   ],
   "source": [
    "# Evaluate the model on the test set\n",
    "loss, accuracy = model.evaluate(X_test_processed, y_test, verbose=0)\n",
    "print(f\"\\n📈 Test Accuracy: {accuracy*100:.2f}%\")\n",
    "\n",
    "# Generate predicted probabilities\n",
    "y_pred_probs = model.predict(X_test_processed)\n",
    "\n",
    "# --- UPDATED: Convert predictions and one-hot y_test back to integers ---\n",
    "y_pred_integers = np.argmax(y_pred_probs, axis=1)\n",
    "y_test_integers = np.argmax(y_test, axis=1)\n",
    "\n",
    "# Print the classification report using the integer labels\n",
    "print(\"\\n📋 Classification Report:\")\n",
    "print(classification_report(y_test_integers, y_pred_integers, target_names=label_encoder.classes_))"
   ]
  },
  {
   "cell_type": "code",
   "execution_count": 32,
   "id": "1373f363-e098-40ae-81f7-342e40441407",
   "metadata": {},
   "outputs": [
    {
     "data": {
      "image/png": "[encoded data removed]",
      "text/plain": [
       "<Figure size 1200x500 with 2 Axes>"
      ]
     },
     "metadata": {},
     "output_type": "display_data"
    }
   ],
   "source": [
    "# Plot training & validation accuracy values\n",
    "plt.figure(figsize=(12, 5))\n",
    "plt.subplot(1, 2, 1)\n",
    "plt.plot(history.history['accuracy'])\n",
    "plt.plot(history.history['val_accuracy'])\n",
    "plt.title('Model Accuracy')\n",
    "plt.ylabel('Accuracy')\n",
    "plt.xlabel('Epoch')\n",
    "plt.legend(['Train', 'Validation'], loc='upper left')\n",
    "\n",
    "# Plot training & validation loss values\n",
    "plt.subplot(1, 2, 2)\n",
    "plt.plot(history.history['loss'])\n",
    "plt.plot(history.history['val_loss'])\n",
    "plt.title('Model Loss')\n",
    "plt.ylabel('Loss')\n",
    "plt.xlabel('Epoch')\n",
    "plt.legend(['Train', 'Validation'], loc='upper left')\n",
    "\n",
    "plt.tight_layout()\n",
    "plt.show()"
   ]
  },
  {
   "cell_type": "code",
   "execution_count": 37,
   "id": "fadfad44-96a4-4e85-b909-358362100b08",
   "metadata": {},
   "outputs": [
    {
     "name": "stdout",
     "output_type": "stream",
     "text": [
      " Keras model saved to 'event_recommender_model.h5'\n",
      " Processing pipeline saved to 'processing_pipeline.joblib'\n",
      " Label encoder saved to 'label_encoder.joblib'\n"
     ]
    }
   ],
   "source": [
    "import joblib\n",
    "\n",
    "# --- Save the Trained Model ---\n",
    "# The standard Keras format is .keras\n",
    "model.save('event_recommender_model.h5')\n",
    "print(\" Keras model saved to 'event_recommender_model.h5'\")\n",
    "\n",
    "# --- Save the Scikit-Learn Objects ---\n",
    "# We need to save the pipeline and the label encoder\n",
    "joblib.dump(processing_pipeline, 'processing_pipeline.joblib')\n",
    "print(\" Processing pipeline saved to 'processing_pipeline.joblib'\")\n",
    "\n",
    "joblib.dump(label_encoder, 'label_encoder.joblib')\n",
    "print(\" Label encoder saved to 'label_encoder.joblib'\")"
   ]
  },
  {
   "cell_type": "code",
   "execution_count": 39,
   "id": "145b7b9e-a38e-413b-afc4-2dbbf9edccf5",
   "metadata": {},
   "outputs": [
    {
     "name": "stdout",
     "output_type": "stream",
     "text": [
      "✅ Model and processors loaded successfully!\n",
      "\n",
      "--- Please Enter New Student Details ---\n",
      "\n",
      "1. Which faculty are you currently enrolled in?\n",
      "  [1] Faculty of Technology\n",
      "  [2] Faculty of Applied Sciences\n",
      "  [3] Faculty of Social Sciences and Humanities\n",
      "  [4] Faculty of Medicine and Allied Sciences\n",
      "  [5] Faculty of Agriculture\n"
     ]
    },
    {
     "name": "stdin",
     "output_type": "stream",
     "text": [
      "   Enter the number for your choice:  2\n",
      "\n",
      "2. Rate your interest in Study Groups (Enter a number from 1 to 5):  2\n",
      "3. Rate your interest in Academic Workshops (Enter a number from 1 to 5):  1\n",
      "4. Rate your interest in Tech Meetups & Hackathons (Enter a number from 1 to 5):  4\n",
      "5. Rate your interest in Business Idea Competitions (Enter a number from 1 to 5):  1\n",
      "6. Rate your interest in Mental Health Workshops (Enter a number from 1 to 5):  2\n"
     ]
    },
    {
     "name": "stdout",
     "output_type": "stream",
     "text": [
      "\n",
      "7. Are you currently a member of any university club or society?\n",
      "  [1] Yes\n",
      "  [2] No\n"
     ]
    },
    {
     "name": "stdin",
     "output_type": "stream",
     "text": [
      "   Enter the number for your choice:  1\n"
     ]
    },
    {
     "name": "stdout",
     "output_type": "stream",
     "text": [
      "\n",
      "8. What type of academic content are you most interested in?\n",
      "  [1] Practical & Technical Skills\n",
      "  [2] Communication & Leadership\n",
      "  [3] Data Analysis & Statistics\n",
      "  [4] Research & Academic Writing\n",
      "  [5] Creative & Critical Thinking\n",
      "  [6] Business & Management\n"
     ]
    },
    {
     "name": "stdin",
     "output_type": "stream",
     "text": [
      "   Enter the number for your choice:  3\n"
     ]
    },
    {
     "name": "stdout",
     "output_type": "stream",
     "text": [
      "1/1 [==============================] - 0s 100ms/step\n",
      "\n",
      "========================================\n",
      "🎉      EVENT RECOMMENDATION      🎉\n",
      "========================================\n",
      "\n",
      "Based on your profile, we suggest you attend a:\n",
      "\n",
      "   >>   **General Academic Workshop** <<\n",
      "\n",
      "========================================\n"
     ]
    }
   ],
   "source": [
    "import pandas as pd\n",
    "import numpy as np\n",
    "import tensorflow as tf\n",
    "import joblib\n",
    "import warnings\n",
    "\n",
    "# Suppress some warnings for a cleaner output\n",
    "warnings.filterwarnings('ignore', category=UserWarning, module='sklearn')\n",
    "\n",
    "# --- Step 1: Load the Saved Model and Processors ---\n",
    "try:\n",
    "    # Use the .h5 model file\n",
    "    model = tf.keras.models.load_model('event_recommender_model.h5')\n",
    "    pipeline = joblib.load('processing_pipeline.joblib')\n",
    "    label_encoder = joblib.load('label_encoder.joblib')\n",
    "    print(\"✅ Model and processors loaded successfully!\")\n",
    "except (FileNotFoundError, IOError) as e:\n",
    "    print(f\"❌ Error: Could not load necessary files. Make sure 'event_recommender_model.h5', 'processing_pipeline.joblib', and 'label_encoder.joblib' are in the same directory.\")\n",
    "    model = None\n",
    "\n",
    "# --- Step 2: Create a function to get student data via questions ---\n",
    "def get_student_profile():\n",
    "    \"\"\"\n",
    "    Asks the user a series of questions to build a student profile dictionary.\n",
    "    \"\"\"\n",
    "    print(\"\\n--- Please Enter New Student Details ---\")\n",
    "    \n",
    "    faculties = ['Faculty of Technology', 'Faculty of Applied Sciences', 'Faculty of Social Sciences and Humanities', 'Faculty of Medicine and Allied Sciences', 'Faculty of Agriculture']\n",
    "    yes_no = ['Yes', 'No']\n",
    "    content_types = ['Practical & Technical Skills', 'Communication & Leadership', 'Data Analysis & Statistics', 'Research & Academic Writing', 'Creative & Critical Thinking', 'Business & Management']\n",
    "\n",
    "    profile = {}\n",
    "\n",
    "    # Faculty Question\n",
    "    print(\"\\n1. Which faculty are you currently enrolled in?\")\n",
    "    for i, faculty in enumerate(faculties):\n",
    "        print(f\"  [{i+1}] {faculty}\")\n",
    "    while True:\n",
    "        try:\n",
    "            choice = int(input(\"   Enter the number for your choice: \"))\n",
    "            if 1 <= choice <= len(faculties):\n",
    "                profile['Which faculty are you currently enrolled in?'] = faculties[choice - 1]\n",
    "                break\n",
    "            else:\n",
    "                print(\"   Invalid number. Please try again.\")\n",
    "        except ValueError:\n",
    "            print(\"   Please enter a valid number.\")\n",
    "\n",
    "    # Interest Ratings Questions\n",
    "    def get_rating(question):\n",
    "        while True:\n",
    "            try:\n",
    "                rating = int(input(f\"{question} (Enter a number from 1 to 5): \"))\n",
    "                if 1 <= rating <= 5:\n",
    "                    return rating\n",
    "                else:\n",
    "                    print(\"   Invalid rating. Please enter a number between 1 and 5.\")\n",
    "            except ValueError:\n",
    "                print(\"   Please enter a valid number.\")\n",
    "    \n",
    "    # --- *** THE FIX IS HERE: Dictionary keys now have single spaces to match the cleaned data *** ---\n",
    "    profile['Study Groups and Peer Discussions interest ratings'] = get_rating(\"\\n2. Rate your interest in Study Groups\")\n",
    "    profile['Academic Workshops interest ratings'] = get_rating(\"3. Rate your interest in Academic Workshops\")\n",
    "    profile['Tech Meetups & Hackathons interest ratings'] = get_rating(\"4. Rate your interest in Tech Meetups & Hackathons\")\n",
    "    profile['Business Idea competition? interest ratings'] = get_rating(\"5. Rate your interest in Business Idea Competitions\")\n",
    "    profile['A workshop on Mental Health & Stress Management? interest ratings'] = get_rating(\"6. Rate your interest in Mental Health Workshops\")\n",
    "\n",
    "    # Club Member Question\n",
    "    print(\"\\n7. Are you currently a member of any university club or society?\")\n",
    "    for i, ans in enumerate(yes_no):\n",
    "        print(f\"  [{i+1}] {ans}\")\n",
    "    while True:\n",
    "        try:\n",
    "            choice = int(input(\"   Enter the number for your choice: \"))\n",
    "            if 1 <= choice <= len(yes_no):\n",
    "                profile['Are you currently a member of any university club or society?'] = yes_no[choice - 1]\n",
    "                break\n",
    "            else:\n",
    "                print(\"   Invalid number. Please try again.\")\n",
    "        except ValueError:\n",
    "            print(\"   Please enter a valid number.\")\n",
    "\n",
    "    # Academic Content Question\n",
    "    print(\"\\n8. What type of academic content are you most interested in?\")\n",
    "    for i, content in enumerate(content_types):\n",
    "        print(f\"  [{i+1}] {content}\")\n",
    "    while True:\n",
    "        try:\n",
    "            choice = int(input(\"   Enter the number for your choice: \"))\n",
    "            if 1 <= choice <= len(content_types):\n",
    "                profile['What type of academic content are you most interested in?'] = content[choice - 1]\n",
    "                break\n",
    "            else:\n",
    "                print(\"   Invalid number. Please try again.\")\n",
    "        except ValueError:\n",
    "            print(\"   Please enter a valid number.\")\n",
    "            \n",
    "    return profile\n",
    "\n",
    "# --- Step 3: Run the Prediction Pipeline ---\n",
    "if model:\n",
    "    new_student_data = get_student_profile()\n",
    "    new_student_df = pd.DataFrame([new_student_data])\n",
    "    new_student_processed = pipeline.transform(new_student_df)\n",
    "    prediction_probabilities = model.predict(new_student_processed)\n",
    "    predicted_class_index = np.argmax(prediction_probabilities, axis=1)[0]\n",
    "    predicted_event = label_encoder.inverse_transform([predicted_class_index])[0]\n",
    "\n",
    "    print(\"\\n\" + \"=\"*40)\n",
    "    print(\"🎉      EVENT RECOMMENDATION      🎉\")\n",
    "    print(\"=\"*40)\n",
    "    print(f\"\\nBased on your profile, we suggest you attend a:\")\n",
    "    print(f\"\\n   >>   **{predicted_event}** <<\")\n",
    "    print(\"\\n\" + \"=\"*40)"
   ]
  },
  {
   "cell_type": "code",
   "execution_count": null,
   "id": "6a09d17f-714c-4e18-9e70-cc8ac8eb40c2",
   "metadata": {},
   "outputs": [],
   "source": []
  }
 ],
 "metadata": {
  "kernelspec": {
   "display_name": "anaconda-ai-2024.04-py310",
   "language": "python",
   "name": "conda-env-anaconda-ai-2024.04-py310-py"
  },
  "language_info": {
   "codemirror_mode": {
    "name": "ipython",
    "version": 3
   },
   "file_extension": ".py",
   "mimetype": "text/x-python",
   "name": "python",
   "nbconvert_exporter": "python",
   "pygments_lexer": "ipython3",
   "version": "3.10.13"
  }
 },
 "nbformat": 4,
 "nbformat_minor": 5
}
